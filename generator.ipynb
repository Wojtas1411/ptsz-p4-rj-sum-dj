{
 "cells": [
  {
   "cell_type": "markdown",
   "metadata": {},
   "source": [
    "# Praktyka i Teoria Szeregowania Zadań\n",
    "## Sprawozdanie I - Generator\n",
    "### Wojcech Taisner 132330"
   ]
  },
  {
   "cell_type": "markdown",
   "metadata": {},
   "source": [
    "# Teoria\n",
    "\n",
    "## Generacja dwuetapowa\n",
    "- zadania inicjalizujące - generuje zadania podstawowe, które będą wypełniać znaczącą większość czasu okreslonego\n",
    "- zadania uzupełniające - generuje krótkie zadania uzupełniające, które powinny mieć zbliżone momenty rozpoczęcia do zdań inicjalizujących - będą generować one spóźnienia"
   ]
  },
  {
   "cell_type": "code",
   "execution_count": 3,
   "metadata": {},
   "outputs": [],
   "source": [
    "import random"
   ]
  },
  {
   "cell_type": "code",
   "execution_count": 1,
   "metadata": {},
   "outputs": [],
   "source": [
    "def generate_instance(n: int, prop = 1/2):\n",
    "    total_duration = n * 2\n",
    "    \n",
    "    processors = [1, 1, 1, 1]\n",
    "    \n",
    "    regulars = int(n*prop)\n",
    "    \n",
    "    # generate number of processes per instance\n",
    "    for _ in range(regulars - 4):\n",
    "        processors[random.randrange(0, len(processors))] += 1\n",
    "        \n",
    "    # generuj zadania inicjalizujące\n",
    "    tasks = []\n",
    "    \n",
    "    for i, p in enumerate(processors):\n",
    "        tasks.append([])\n",
    "        avg = total_duration//p\n",
    "        for k in range(0, total_duration, avg):\n",
    "            duration = avg + random.randint(0, 1)\n",
    "            ready = max(random.randint(0,4), k-(avg//2))\n",
    "            due = max(ready+duration, k + duration + random.randint(0, 4))\n",
    "            \n",
    "            task = (duration, ready, due )\n",
    "            tasks[i].append(task)\n",
    "            \n",
    "    current_number_of_tasks = sum(list(map(len, tasks)))\n",
    "    \n",
    "    # transformuj do jednowymiarowej listy\n",
    "    all_tasks = []\n",
    "    for t in tasks:\n",
    "        all_tasks.extend(t)\n",
    "    \n",
    "    # ready times dla zadań uzupełniających\n",
    "    ready_times = list(map(lambda x: x[2], all_tasks))\n",
    "    # wybierz tylko ready times z pewnego zakresu (żeby nie były blisko początku lub końca)\n",
    "    ready_times = list(filter(lambda x: x>total_duration//6 and x<total_duration//6*5, ready_times))\n",
    "    \n",
    "    # generuj zadania uzupełniające\n",
    "    for _ in range(n - current_number_of_tasks):\n",
    "        ready = random.choice(ready_times) + random.randint(0,2)\n",
    "        processing = random.randint(2,4)\n",
    "        due = ready + processing + random.randint(0,2)\n",
    "        processing = min(processing, due - ready)\n",
    "        \n",
    "        task = (processing, ready, due)\n",
    "        all_tasks.append(task)\n",
    "        \n",
    "    # shuffle list\n",
    "    random.shuffle(all_tasks)\n",
    "    \n",
    "    return all_tasks\n",
    "        "
   ]
  },
  {
   "cell_type": "code",
   "execution_count": 4,
   "metadata": {},
   "outputs": [],
   "source": [
    "for n in range(50, 501, 50):\n",
    "    assert len(generate_instance(n)) == n"
   ]
  },
  {
   "cell_type": "code",
   "execution_count": 5,
   "metadata": {},
   "outputs": [],
   "source": [
    "resultpath = './input/wt_test/'\n",
    "# główna pętla\n",
    "for n in range(50, 501, 50):\n",
    "    # generuj zadania\n",
    "    tasks = generate_instance(n)\n",
    "    # zapis\n",
    "    filepath = resultpath+'n'+str(n)+'.txt'\n",
    "    with open(filepath, 'w+') as f:\n",
    "        f.write(str(n)+'\\n')\n",
    "        for t in tasks:\n",
    "            f.write(' '.join(tuple(map(str,t)))+'\\n')"
   ]
  }
 ],
 "metadata": {
  "kernelspec": {
   "display_name": "Python 3",
   "language": "python",
   "name": "python3"
  },
  "language_info": {
   "codemirror_mode": {
    "name": "ipython",
    "version": 3
   },
   "file_extension": ".py",
   "mimetype": "text/x-python",
   "name": "python",
   "nbconvert_exporter": "python",
   "pygments_lexer": "ipython3",
   "version": "3.7.5"
  }
 },
 "nbformat": 4,
 "nbformat_minor": 4
}
